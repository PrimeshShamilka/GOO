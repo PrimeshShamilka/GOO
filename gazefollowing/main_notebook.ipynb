{
 "cells": [
  {
   "cell_type": "code",
   "execution_count": 10,
   "metadata": {},
   "outputs": [
    {
     "name": "stdout",
     "output_type": "stream",
     "text": [
      "==> Loading Train Dataset\n",
      "172800\n",
      "==> Loading Test Dataset\n",
      "19200\n",
      "False\n",
      "  0%|                                        | 7/5400 [00:27<5:01:06,  3.35s/it]^C\n",
      "  0%|                                        | 7/5400 [00:28<6:00:49,  4.01s/it]\n"
     ]
    }
   ],
   "source": [
    "# Training Gazenet on GooDataset\n",
    "\n",
    "!python main.py --baseline='gazenet' \\\n",
    "--train_dir='/hdd/HENRI/goosynth/1person/GazeDatasets/' \\\n",
    "--train_annotation='/hdd/HENRI/goosynth/picklefiles/trainpickle2to19human.pickle' \\\n",
    "--test_dir='/hdd/HENRI/goosynth/test/' \\\n",
    "--test_annotation='/hdd/HENRI/goosynth/picklefiles/testpickle120.pickle' \\\n",
    "--log_file='main_test.log' \\\n",
    "--save_model_dir='./saved_models/temp2/' \\"
   ]
  },
  {
   "cell_type": "code",
   "execution_count": null,
   "metadata": {},
   "outputs": [],
   "source": [
    "# Resuming Training on Goo\n",
    "\n",
    "!python main.py --baseline='gazenet' \\\n",
    "--train_dir='/hdd/HENRI/goosynth/1person/GazeDatasets/' \\\n",
    "--train_annotation='/hdd/HENRI/goosynth/picklefiles/trainpickle2to19human.pickle' \\\n",
    "--test_dir='/hdd/HENRI/goosynth/test/' \\\n",
    "--test_annotation='/hdd/HENRI/goosynth/picklefiles/testpickle120.pickle' \\\n",
    "--resume_training \\\n",
    "--resume_path='./saved_models/gazenet_goo/model_epoch25.pth.tar' \\\n",
    "--log_file='main_test.log' \\\n",
    "--save_model_dir='./saved_models/temp2/' \\"
   ]
  },
  {
   "cell_type": "code",
   "execution_count": 12,
   "metadata": {},
   "outputs": [
    {
     "name": "stdout",
     "output_type": "stream",
     "text": [
      "usage: main.py [-h] [--train_dir TRAIN_DIR]\r\n",
      "               [--train_annotation TRAIN_ANNOTATION] [--test_dir TEST_DIR]\r\n",
      "               [--test_annotation TEST_ANNOTATION] [--resume_training]\r\n",
      "               [--resume_path RESUME_PATH] [--log_file LOG_FILE]\r\n",
      "               [--save_model_dir SAVE_MODEL_DIR] [--baseline BASELINE]\r\n",
      "               [--batch_size BATCH_SIZE] [--init_lr INIT_LR]\r\n",
      "               [--max_epochs MAX_EPOCHS]\r\n",
      "\r\n",
      "optional arguments:\r\n",
      "  -h, --help            show this help message and exit\r\n",
      "  --train_dir TRAIN_DIR\r\n",
      "                        path to training set\r\n",
      "  --train_annotation TRAIN_ANNOTATION\r\n",
      "                        train annotations (pickle/mat)\r\n",
      "  --test_dir TEST_DIR   path to test set\r\n",
      "  --test_annotation TEST_ANNOTATION\r\n",
      "                        test annotations (pickle/mat)\r\n",
      "  --resume_training     train from a checkpoint specified by --resume_path\r\n",
      "  --resume_path RESUME_PATH\r\n",
      "                        load model file\r\n",
      "  --log_file LOG_FILE   logging training error\r\n",
      "  --save_model_dir SAVE_MODEL_DIR\r\n",
      "                        directory for saving models\r\n",
      "  --baseline BASELINE   recasens or gazenet\r\n",
      "  --batch_size BATCH_SIZE\r\n",
      "                        batch size\r\n",
      "  --init_lr INIT_LR     initial learning rate\r\n",
      "  --max_epochs MAX_EPOCHS\r\n",
      "                        max epochs to end training\r\n"
     ]
    }
   ],
   "source": [
    "# Help\n",
    "!python main.py -h"
   ]
  },
  {
   "cell_type": "code",
   "execution_count": null,
   "metadata": {},
   "outputs": [],
   "source": []
  }
 ],
 "metadata": {
  "kernelspec": {
   "display_name": "Python 3",
   "language": "python",
   "name": "python3"
  },
  "language_info": {
   "codemirror_mode": {
    "name": "ipython",
    "version": 3
   },
   "file_extension": ".py",
   "mimetype": "text/x-python",
   "name": "python",
   "nbconvert_exporter": "python",
   "pygments_lexer": "ipython3",
   "version": "3.7.7"
  }
 },
 "nbformat": 4,
 "nbformat_minor": 4
}
