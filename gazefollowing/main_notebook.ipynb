{
 "cells": [
  {
   "cell_type": "code",
   "execution_count": 10,
   "metadata": {},
   "outputs": [
    {
     "name": "stdout",
     "output_type": "stream",
     "text": [
      "==> Loading Train Dataset\n",
      "172800\n",
      "==> Loading Test Dataset\n",
      "19200\n",
      "False\n",
      "  0%|                                        | 7/5400 [00:27<5:01:06,  3.35s/it]^C\n",
      "  0%|                                        | 7/5400 [00:28<6:00:49,  4.01s/it]\n"
     ]
    }
   ],
   "source": [
    "# Training Gazenet on GooDataset\n",
    "\n",
    "!python main.py --baseline='gazenet' \\\n",
    "--train_dir='/hdd/HENRI/goosynth/1person/GazeDatasets/' \\\n",
    "--train_annotation='/hdd/HENRI/goosynth/picklefiles/trainpickle2to19human.pickle' \\\n",
    "--test_dir='/hdd/HENRI/goosynth/test/' \\\n",
    "--test_annotation='/hdd/HENRI/goosynth/picklefiles/testpickle120.pickle' \\\n",
    "--log_file='main_test.log' \\\n",
    "--save_model_dir='./saved_models/temp2/' \\"
   ]
  },
  {
   "cell_type": "code",
   "execution_count": 1,
   "metadata": {},
   "outputs": [
    {
     "name": "stdout",
     "output_type": "stream",
     "text": [
      "==> Loading Train Dataset\n",
      "172800\n",
      "==> Loading Test Dataset\n",
      "19200\n",
      "True\n",
      "=> loading checkpoint './saved_models/gazenet_goo/model_epoch25.pth.tar'\n",
      "=> loaded checkpoint './saved_models/gazenet_goo/model_epoch25.pth.tar' (epoch 25)\n",
      "  0%|                                                  | 0/1200 [00:00<?, ?it/s]loss: 0.09129, 0.12702, 0.21831\n",
      "  0%|                                          | 1/1200 [00:02<49:02,  2.45s/it]loss: 0.07901, 0.17064, 0.24965\n",
      "  0%|                                          | 2/1200 [00:02<35:17,  1.77s/it]loss: 0.07431, 0.08411, 0.15842\n",
      "  0%|                                          | 3/1200 [00:02<25:28,  1.28s/it]loss: 0.05950, 0.13522, 0.19472\n",
      "  0%|▏                                         | 4/1200 [00:02<18:44,  1.06it/s]loss: 0.07411, 0.07948, 0.15359\n",
      "  0%|▏                                         | 5/1200 [00:03<13:56,  1.43it/s]loss: 0.07061, 0.07307, 0.14368\n",
      "  0%|▏                                         | 6/1200 [00:03<10:32,  1.89it/s]loss: 0.05604, 0.20386, 0.25990\n",
      "  1%|▏                                         | 7/1200 [00:03<08:06,  2.45it/s]loss: 0.07004, 0.08222, 0.15226\n",
      "  1%|▎                                         | 8/1200 [00:03<06:27,  3.08it/s]loss: 0.06607, 0.12009, 0.18616\n",
      "  1%|▎                                         | 9/1200 [00:03<05:32,  3.58it/s]loss: 0.05481, 0.07702, 0.13183\n",
      "  1%|▎                                        | 10/1200 [00:03<04:53,  4.06it/s]loss: 0.04871, 0.09943, 0.14815\n",
      "  1%|▍                                        | 11/1200 [00:03<04:12,  4.70it/s]loss: 0.08338, 0.11421, 0.19759\n",
      "  1%|▍                                        | 12/1200 [00:04<03:54,  5.07it/s]loss: 0.07597, 0.05975, 0.13572\n",
      "  1%|▍                                        | 13/1200 [00:04<03:32,  5.59it/s]loss: 0.06016, 0.03171, 0.09187\n",
      "  1%|▍                                        | 14/1200 [00:04<03:18,  5.98it/s]loss: 0.08011, 0.15620, 0.23631\n",
      "  1%|▌                                        | 15/1200 [00:04<03:09,  6.24it/s]loss: 0.08258, 0.31849, 0.40107\n",
      "  1%|▌                                        | 16/1200 [00:04<03:05,  6.39it/s]loss: 0.06339, 0.14078, 0.20417\n",
      "  1%|▌                                        | 17/1200 [00:04<03:05,  6.38it/s]loss: 0.07003, 0.04509, 0.11512\n",
      "  2%|▌                                        | 18/1200 [00:04<03:02,  6.48it/s]loss: 0.08066, 0.17696, 0.25762\n",
      "  2%|▋                                        | 19/1200 [00:05<02:57,  6.66it/s]loss: 0.06547, 0.10290, 0.16837\n",
      "  2%|▋                                        | 20/1200 [00:05<02:57,  6.65it/s]loss: 0.07762, 0.15486, 0.23248\n",
      "  2%|▋                                        | 21/1200 [00:05<02:44,  7.16it/s]loss: 0.07631, 0.18373, 0.26004\n",
      "  2%|▊                                        | 22/1200 [00:05<02:50,  6.89it/s]loss: 0.08198, 0.11094, 0.19292\n",
      "  2%|▊                                        | 23/1200 [00:05<02:55,  6.70it/s]loss: 0.06652, 0.07472, 0.14124\n",
      "  2%|▊                                        | 24/1200 [00:05<02:54,  6.75it/s]loss: 0.05695, 0.04440, 0.10135\n",
      "  2%|▊                                        | 25/1200 [00:06<03:46,  5.19it/s]loss: 0.05303, 0.03911, 0.09214\n",
      "  2%|▉                                        | 26/1200 [00:06<03:28,  5.62it/s]loss: 0.07942, 0.07201, 0.15144\n",
      "  2%|▉                                        | 27/1200 [00:06<03:16,  5.98it/s]\n",
      "  2%|▉                                        | 28/1200 [00:06<03:11,  6.12it/s]^C\n"
     ]
    }
   ],
   "source": [
    "# Resuming Training on Goo\n",
    "\n",
    "!python main.py --baseline='gazenet' \\\n",
    "--train_dir='/hdd/HENRI/goosynth/1person/GazeDatasets/' \\\n",
    "--train_annotation='/hdd/HENRI/goosynth/picklefiles/trainpickle2to19human.pickle' \\\n",
    "--test_dir='/hdd/HENRI/goosynth/test/' \\\n",
    "--test_annotation='/hdd/HENRI/goosynth/picklefiles/testpickle120.pickle' \\\n",
    "--resume_training \\\n",
    "--resume_path='./saved_models/gazenet_goo/model_epoch25.pth.tar' \\\n",
    "--log_file='main_test.log' \\\n",
    "--save_model_dir='./saved_models/temp2/' \\"
   ]
  },
  {
   "cell_type": "code",
   "execution_count": 3,
   "metadata": {},
   "outputs": [
    {
     "name": "stdout",
     "output_type": "stream",
     "text": [
      "==> Loading Train Dataset\n",
      "Total images in this set: 172800\n",
      "==> Loading Test Dataset\n",
      "Total images in this set: 19200\n",
      "True\n",
      "=> loading checkpoint './saved_models/temp/model_epoch5.pth.tar'\n",
      "=> loaded checkpoint './saved_models/temp/model_epoch5.pth.tar' (epoch 6)\n",
      "  0%|                                                  | 0/1200 [00:00<?, ?it/s]/home/eee198/anaconda3/envs/gazefollow/lib/python3.7/site-packages/torch/nn/functional.py:2539: UserWarning: Default upsampling behavior when mode=bicubic is changed to align_corners=False since 0.4.0. Please specify align_corners=True if the old behavior is desired. See the documentation of nn.Upsample for details.\n",
      "  \"See the documentation of nn.Upsample for details.\".format(mode))\n",
      "100%|███████████████████████████████████████| 1200/1200 [08:36<00:00,  2.33it/s]\n",
      "average error: [ 0.1693926  34.95674974]\n",
      "  1%|▎                                      | 48/5400 [01:10<1:40:14,  1.12s/it]^C\n",
      "  1%|▎                                      | 48/5400 [01:17<2:23:34,  1.61s/it]\n",
      "Traceback (most recent call last):\n",
      "  File \"main.py\", line 106, in <module>\n",
      "    main()             \n",
      "  File \"main.py\", line 94, in main\n",
      "    train(net, train_data_loader, optimizer, epoch, logger)\n",
      "  File \"/home/eee198/Documents/gaze-on-objects/gazefollowing/training/train_recasens.py\", line 87, in train\n",
      "    for i, data in tqdm(enumerate(train_dataloader), total=len(train_dataloader)):\n",
      "  File \"/home/eee198/anaconda3/envs/gazefollow/lib/python3.7/site-packages/tqdm/std.py\", line 1129, in __iter__\n",
      "    for obj in iterable:\n",
      "  File \"/home/eee198/anaconda3/envs/gazefollow/lib/python3.7/site-packages/torch/utils/data/dataloader.py\", line 576, in __next__\n",
      "    idx, batch = self._get_batch()\n",
      "  File \"/home/eee198/anaconda3/envs/gazefollow/lib/python3.7/site-packages/torch/utils/data/dataloader.py\", line 553, in _get_batch\n",
      "    success, data = self._try_get_batch()\n",
      "  File \"/home/eee198/anaconda3/envs/gazefollow/lib/python3.7/site-packages/torch/utils/data/dataloader.py\", line 511, in _try_get_batch\n",
      "    data = self.data_queue.get(timeout=timeout)\n",
      "  File \"/home/eee198/anaconda3/envs/gazefollow/lib/python3.7/multiprocessing/queues.py\", line 104, in get\n",
      "    if not self._poll(timeout):\n",
      "  File \"/home/eee198/anaconda3/envs/gazefollow/lib/python3.7/multiprocessing/connection.py\", line 257, in poll\n",
      "    return self._poll(timeout)\n",
      "  File \"/home/eee198/anaconda3/envs/gazefollow/lib/python3.7/multiprocessing/connection.py\", line 414, in _poll\n",
      "    r = wait([self], timeout)\n",
      "  File \"/home/eee198/anaconda3/envs/gazefollow/lib/python3.7/multiprocessing/connection.py\", line 920, in wait\n",
      "    ready = selector.select(timeout)\n",
      "  File \"/home/eee198/anaconda3/envs/gazefollow/lib/python3.7/selectors.py\", line 415, in select\n",
      "    fd_event_list = self._selector.poll(timeout)\n",
      "KeyboardInterrupt\n"
     ]
    }
   ],
   "source": [
    "# Resume Training / Eval of Recasens on GOO\n",
    "!python main.py --baseline='recasens' \\\n",
    "--train_dir='/hdd/HENRI/goosynth/1person/GazeDatasets/' \\\n",
    "--train_annotation='/hdd/HENRI/goosynth/picklefiles/trainpickle2to19human.pickle' \\\n",
    "--test_dir='/hdd/HENRI/goosynth/test/' \\\n",
    "--test_annotation='/hdd/HENRI/goosynth/picklefiles/testpickle120.pickle' \\\n",
    "--resume_training \\\n",
    "--resume_path='./saved_models/temp/model_epoch5.pth.tar' \\\n",
    "--log_file='main_test.log' \\\n",
    "--save_model_dir='./saved_models/temp2/' \\"
   ]
  },
  {
   "cell_type": "code",
   "execution_count": 12,
   "metadata": {},
   "outputs": [
    {
     "name": "stdout",
     "output_type": "stream",
     "text": [
      "usage: main.py [-h] [--train_dir TRAIN_DIR]\r\n",
      "               [--train_annotation TRAIN_ANNOTATION] [--test_dir TEST_DIR]\r\n",
      "               [--test_annotation TEST_ANNOTATION] [--resume_training]\r\n",
      "               [--resume_path RESUME_PATH] [--log_file LOG_FILE]\r\n",
      "               [--save_model_dir SAVE_MODEL_DIR] [--baseline BASELINE]\r\n",
      "               [--batch_size BATCH_SIZE] [--init_lr INIT_LR]\r\n",
      "               [--max_epochs MAX_EPOCHS]\r\n",
      "\r\n",
      "optional arguments:\r\n",
      "  -h, --help            show this help message and exit\r\n",
      "  --train_dir TRAIN_DIR\r\n",
      "                        path to training set\r\n",
      "  --train_annotation TRAIN_ANNOTATION\r\n",
      "                        train annotations (pickle/mat)\r\n",
      "  --test_dir TEST_DIR   path to test set\r\n",
      "  --test_annotation TEST_ANNOTATION\r\n",
      "                        test annotations (pickle/mat)\r\n",
      "  --resume_training     train from a checkpoint specified by --resume_path\r\n",
      "  --resume_path RESUME_PATH\r\n",
      "                        load model file\r\n",
      "  --log_file LOG_FILE   logging training error\r\n",
      "  --save_model_dir SAVE_MODEL_DIR\r\n",
      "                        directory for saving models\r\n",
      "  --baseline BASELINE   recasens or gazenet\r\n",
      "  --batch_size BATCH_SIZE\r\n",
      "                        batch size\r\n",
      "  --init_lr INIT_LR     initial learning rate\r\n",
      "  --max_epochs MAX_EPOCHS\r\n",
      "                        max epochs to end training\r\n"
     ]
    }
   ],
   "source": [
    "# Help\n",
    "!python main.py -h"
   ]
  },
  {
   "cell_type": "code",
   "execution_count": null,
   "metadata": {},
   "outputs": [],
   "source": []
  }
 ],
 "metadata": {
  "kernelspec": {
   "display_name": "Python 3",
   "language": "python",
   "name": "python3"
  },
  "language_info": {
   "codemirror_mode": {
    "name": "ipython",
    "version": 3
   },
   "file_extension": ".py",
   "mimetype": "text/x-python",
   "name": "python",
   "nbconvert_exporter": "python",
   "pygments_lexer": "ipython3",
   "version": "3.7.7"
  }
 },
 "nbformat": 4,
 "nbformat_minor": 4
}
